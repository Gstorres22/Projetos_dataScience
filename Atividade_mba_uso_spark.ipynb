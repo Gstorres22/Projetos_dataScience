{
 "cells": [
  {
   "cell_type": "code",
   "execution_count": null,
   "id": "7fb2c815",
   "metadata": {},
   "outputs": [],
   "source": [
    "from pyspark.sql import SparkSession\n",
    "from pyspark.sql.functions import col\n",
    "import requests"
   ]
  },
  {
   "cell_type": "code",
   "execution_count": null,
   "id": "fac17d73",
   "metadata": {},
   "outputs": [],
   "source": [
    "spark = SparkSession.builder \\\n",
    "    .appName(\"Aula Spark 13DTRS\") \\\n",
    "    .getOrCreate()"
   ]
  },
  {
   "cell_type": "code",
   "execution_count": null,
   "id": "51bacb9a",
   "metadata": {},
   "outputs": [],
   "source": [
    "df_futebol = spark.read.csv(\"results.csv\", header=True, inferSchema=True)\n",
    "\n",
    "df_futebol.printSchema()\n",
    "df_futebol.show(5)"
   ]
  },
  {
   "cell_type": "code",
   "execution_count": null,
   "id": "02df84bc",
   "metadata": {},
   "outputs": [],
   "source": [
    "df_futebol_ok =(\n",
    "  df_futebol\n",
    "  .withColumnRenamed(\"date\", \"dt\")\n",
    "  .withColumnRenamed(\"home_teamName\", \"mandante\")\n",
    "  .withColumnRenamed(\"away_teamName\", \"visitante\")\n",
    "  .withColumnRenamed(\"home_scoreHome\", \"gol_mandante\")\n",
    "  .withColumnRenamed(\"away_scoreAway\", \"gol_visitante\")\n",
    "  .withColumnRenamed(\"tournamentName\", \"torneio\")\n",
    "  .withColumnRenamed(\"cityCity\", \"cidade\")\n",
    "  .withColumnRenamed(\"countryCountry\", \"pais\")\n",
    "  .withColumnRenamed(\"neutral\", \"neutro\")\n",
    "  .drop('neutralTRUE')\n",
    "  .withColumn(\"dt\",col(\"dt\").cast('date'))\n",
    "  .withColumn(\"gol_mandante\",col(\"gol_mandante\").cast('integer'))\n",
    "  .withColumn(\"gol_visitante\",col(\"gol_visitante\").cast('integer'))\n",
    "\n",
    ")"
   ]
  },
  {
   "cell_type": "code",
   "execution_count": null,
   "id": "2919eae0",
   "metadata": {},
   "outputs": [],
   "source": [
    "df_futebol_ok.show()"
   ]
  },
  {
   "cell_type": "code",
   "execution_count": null,
   "id": "be3390be",
   "metadata": {},
   "outputs": [],
   "source": [
    "df_futebol_ok.createOrReplaceTempView(\"futebol\")"
   ]
  },
  {
   "cell_type": "code",
   "execution_count": null,
   "id": "a0146ab1",
   "metadata": {},
   "outputs": [],
   "source": [
    "#1 - Quantos registros existem na base?\n",
    "query_count = \"SELECT COUNT(*) from futebol\"\n",
    "count_df = spark.sql(query_count)\n",
    "count_df.show()"
   ]
  },
  {
   "cell_type": "code",
   "execution_count": null,
   "id": "40376dd8",
   "metadata": {},
   "outputs": [],
   "source": [
    "# 2 - Quantas equipes únicas mandantes existem na base?\n",
    "query = \"SELECT COUNT(DISTINCT mandante) FROM futebol\"\n",
    "unique_home_teams_df = spark.sql(query)\n",
    "unique_home_teams_df.show()"
   ]
  },
  {
   "cell_type": "code",
   "execution_count": null,
   "id": "0d0f2b7d",
   "metadata": {},
   "outputs": [],
   "source": [
    "# 3 - Quantas vezes as equipes mandantes saíram vitoriosas?\n",
    "query_home_wins = \"SELECT COUNT(*) FROM futebol WHERE gol_mandante > gol_visitante\"\n",
    "home_wins_df = spark.sql(query_home_wins)\n",
    "home_wins_df.show()"
   ]
  },
  {
   "cell_type": "code",
   "execution_count": null,
   "id": "ceab7acc",
   "metadata": {},
   "outputs": [],
   "source": [
    "# 4 - Quantas vezes as equipes visitantes saíram vitoriosas?\n",
    "query_away_wins = \"SELECT COUNT(*) FROM futebol WHERE gol_visitante > gol_mandante\"\n",
    "away_wins_df = spark.sql(query_away_wins)\n",
    "away_wins_df.show()"
   ]
  },
  {
   "cell_type": "code",
   "execution_count": null,
   "id": "033c63c5",
   "metadata": {},
   "outputs": [],
   "source": [
    "#5 - Quantas partidas resultaram em empate?\n",
    "query_draws = \"SELECT COUNT(*) FROM futebol WHERE gol_mandante = gol_visitante\"\n",
    "draws_df = spark.sql(query_draws)\n",
    "draws_df.show()"
   ]
  },
  {
   "cell_type": "code",
   "execution_count": null,
   "id": "b00703e7",
   "metadata": {},
   "outputs": [],
   "source": [
    "#6 — Quantas partidas foram real izadas em cada país?\n",
    "query_play = ('SELECT pais, COUNT(*) AS total_partidas FROM futebol GROUP BY pais ORDER BY total_partidas DESC')\n",
    "play_df = spark.sql(query_play)\n",
    "play_df.show()"
   ]
  },
  {
   "cell_type": "code",
   "execution_count": null,
   "id": "3a18cc58",
   "metadata": {},
   "outputs": [],
   "source": [
    "#7 - Qual país teve mais partidas?\n",
    "query_max_play = ('SELECT pais, COUNT(*) AS total_partidas FROM futebol GROUP BY pais ORDER BY total_partidas DESC LIMIT 1')\n",
    "max_play_df = spark.sql(query_max_play)\n",
    "max_play_df.show()"
   ]
  },
  {
   "cell_type": "code",
   "execution_count": null,
   "id": "f7ae1f42",
   "metadata": {},
   "outputs": [],
   "source": [
    "#8 - Qual a partida com maior número de gols?\n",
    "query_max_goals = ('SELECT dt, mandante, visitante, gol_mandante, gol_visitante, cidade, pais,(gol_mandante + gol_visitante) AS total_gols FROM futebol ORDER BY total_gols DESC LIMIT 1')\n",
    "max_goals_df = spark.sql(query_max_goals)\n",
    "max_goals_df.show()"
   ]
  },
  {
   "cell_type": "code",
   "execution_count": null,
   "id": "5d62521c",
   "metadata": {},
   "outputs": [],
   "source": [
    "#9 - Qual a maior goleada?\n",
    "query_max_goals = ('SELECT dt, mandante, visitante, gol_mandante, gol_visitante, cidade, pais, ABS(gol_mandante- gol_visitante) AS diferenca_gols FROM futebol ORDER BY diferenca_gols DESC LIMIT 1')\n",
    "max_goals_df = spark.sql(query_max_goals)\n",
    "max_goals_df.show()"
   ]
  },
  {
   "cell_type": "code",
   "execution_count": null,
   "id": "f7b54ac7",
   "metadata": {},
   "outputs": [],
   "source": [
    "#10 - Quantos jogos ocorreram no Brasil?\n",
    "query_brasil = ('SELECT COUNT(*) AS jogos_no_brasil FROM futebol WHERE pais = \"Brazil\";')\n",
    "brasil_df = spark.sql(query_brasil)\n",
    "brasil_df.show()"
   ]
  }
 ],
 "metadata": {
  "language_info": {
   "name": "python"
  }
 },
 "nbformat": 4,
 "nbformat_minor": 5
}
